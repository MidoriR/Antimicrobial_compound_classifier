{
 "cells": [
  {
   "cell_type": "code",
   "execution_count": null,
   "metadata": {
    "collapsed": true
   },
   "outputs": [],
   "source": [
    "import numpy as np\n",
    "from collections import Counter\n",
    "\n",
    "def lea_datos(archivo, i_clase=4, encabezado=True, delim=\",\"):\n",
    "    '''Una funcion para leer archivos con datos de clasificación. \n",
    "    Argumentos:\n",
    "        archivo - direccion del archivo\n",
    "        i_clase - indice de columna que contiene las clases. \n",
    "                  default es -1 y significa la ultima fila.\n",
    "        header - si hay un encabezado\n",
    "        delim - que separa los datos\n",
    "    Regresa:\n",
    "        Un tuple de los datos, clases y cabezazo en caso que hay.'''\n",
    "    \n",
    "    todo = np.loadtxt(archivo, dtype=\"S\", delimiter=delim)    # para csv\n",
    "    if(encabezado):\n",
    "        encabezado = todo[0,:]\n",
    "        todo = todo[1:-2,:]\n",
    "    else: \n",
    "        encabezado = None\n",
    "    \n",
    "    clases = todo[:, i_clase]\n",
    "    datos = np.delete(todo, [0, i_clase], axis=1)\n",
    "    print (\"Clases\")\n",
    "    for k,v in Counter(clases).items(): print (k,\":\",v)\n",
    "    return (datos, clases, encabezado) "
   ]
  },
  {
   "cell_type": "code",
   "execution_count": null,
   "metadata": {
    "collapsed": false
   },
   "outputs": [],
   "source": [
    "datos, clases, encabezado = lea_datos(\"datos_peña.csv\")  # _ significa que no nos interesa este valor \n",
    "clases.shape"
   ]
  },
  {
   "cell_type": "code",
   "execution_count": null,
   "metadata": {
    "collapsed": false
   },
   "outputs": [],
   "source": [
    "datos"
   ]
  },
  {
   "cell_type": "code",
   "execution_count": null,
   "metadata": {
    "collapsed": true
   },
   "outputs": [],
   "source": [
    "X = datos.astype(\"float\")"
   ]
  },
  {
   "cell_type": "code",
   "execution_count": null,
   "metadata": {
    "collapsed": false
   },
   "outputs": [],
   "source": [
    "#Random Forest\n",
    "from sklearn.ensemble import RandomForestClassifier\n",
    "\n",
    "clf = RandomForestClassifier(oob_score=True)\n",
    "clf.fit(X, clases)\n",
    "print (\"Exactitud estimado:\", clf.oob_score_)"
   ]
  },
  {
   "cell_type": "code",
   "execution_count": null,
   "metadata": {
    "collapsed": false
   },
   "outputs": [],
   "source": [
    "%matplotlib inline\n",
    "from sklearn.cross_validation import StratifiedKFold\n",
    "from sklearn.grid_search import GridSearchCV\n",
    "import matplotlib.pyplot as plt\n",
    "\n",
    "cv = StratifiedKFold(y=clases, n_folds=2)\n",
    "arboles_vals = np.arange(5,200,5)\n",
    "busqueda = GridSearchCV(clf, param_grid=dict(n_estimators=arboles_vals), cv=cv)\n",
    "busqueda.fit(X, clases)\n",
    "\n",
    "print ('Mejor numero de arboles=',busqueda.best_params_,',exactitud =',busqueda.best_score_)\n",
    "\n",
    "scores = [x[1] for x in busqueda.grid_scores_]\n",
    "\n",
    "plt.plot(arboles_vals, scores)\n",
    "plt.xlabel('C')\n",
    "plt.ylabel('exactitud cv')\n",
    "plt.show()"
   ]
  },
  {
   "cell_type": "code",
   "execution_count": null,
   "metadata": {
    "collapsed": false
   },
   "outputs": [],
   "source": [
    "prof_vals = np.arange(1,12)\n",
    "busqueda = GridSearchCV(clf, param_grid=dict(max_depth=prof_vals), cv=cv)\n",
    "busqueda.fit(datos, clases)\n",
    "\n",
    "print ('Mejor profundidad=',busqueda.best_params_,',exactitud =',busqueda.best_score_)\n",
    "\n",
    "scores = [x[1] for x in busqueda.grid_scores_]\n",
    "plt.plot(prof_vals, scores)\n",
    "plt.xlabel('profundidad maxima')\n",
    "plt.ylabel('exactitud cv')\n",
    "plt.show()"
   ]
  },
  {
   "cell_type": "code",
   "execution_count": null,
   "metadata": {
    "collapsed": false
   },
   "outputs": [],
   "source": [
    "#SVM\n",
    "from sklearn.svm import SVC\n",
    "from sklearn.cross_validation import cross_val_score, StratifiedKFold\n",
    "\n",
    "clf = SVC(kernel='rbf')\n",
    "exas = cross_val_score(clf, X, clases, cv=2)    # escoge un numero adecuado de folds \n",
    "print ('cv exactitud =', exas.mean(), '±', exas.std())"
   ]
  },
  {
   "cell_type": "code",
   "execution_count": null,
   "metadata": {
    "collapsed": false
   },
   "outputs": [],
   "source": [
    "%matplotlib inline\n",
    "from sklearn.grid_search import GridSearchCV\n",
    "import matplotlib.pyplot as plt\n",
    "\n",
    "cv = StratifiedKFold(y=clases, n_folds=3)     # usamos las primeras 100 muestras\n",
    "C_rango = 10.0 ** np.arange(-5,5)\n",
    "gamma_rango = 10.0 ** np.arange(-5,5)\n",
    "busqueda = GridSearchCV(clf, param_grid=dict(C=C_rango, gamma=gamma_rango), cv=cv)\n",
    "busqueda.fit(X, clases)        # usamos las primeras 100 muestras\n",
    "\n",
    "print ('Mejor C, gamma =',busqueda.best_params_,',exactitud =',busqueda.best_score_)\n",
    "\n",
    "scores = np.array( [x[1] for x in busqueda.grid_scores_] ) # Sacamos nada mas el segundo elemento de los scores\n",
    "n_C, n_g = len(C_rango), len(gamma_rango)                  # sacamos el numero de parametros probados\n",
    "scores = scores.reshape(n_C, n_g)                          # convertimos los scores en la cuadricula\n",
    "\n",
    "# Ahora vamos a dibujar todo\n",
    "plt.figure(figsize=(10,8))                     # hacemos el imagen un poco mas grande\n",
    "plt.imshow(scores, interpolation='nearest')    # dibuja los scores representado por colores\n",
    "plt.xlabel('gamma')                            # pon el titulo del eje x\n",
    "plt.ylabel('C')                                # pon el titulo del eje y\n",
    "plt.colorbar()                                 # pon un escala de colores para los scores\n",
    "plt.xticks(np.arange(len(gamma_rango)), gamma_rango, rotation=45)    # pon los valores para gamma\n",
    "plt.yticks(np.arange(len(C_rango)), C_rango)   # pon los valores para C\n",
    "plt.show()"
   ]
  },
  {
   "cell_type": "code",
   "execution_count": null,
   "metadata": {
    "collapsed": true
   },
   "outputs": [],
   "source": []
  }
 ],
 "metadata": {
  "kernelspec": {
   "display_name": "Python 3",
   "language": "python",
   "name": "python3"
  },
  "language_info": {
   "codemirror_mode": {
    "name": "ipython",
    "version": 3
   },
   "file_extension": ".py",
   "mimetype": "text/x-python",
   "name": "python",
   "nbconvert_exporter": "python",
   "pygments_lexer": "ipython3",
   "version": "3.4.3"
  }
 },
 "nbformat": 4,
 "nbformat_minor": 0
}
