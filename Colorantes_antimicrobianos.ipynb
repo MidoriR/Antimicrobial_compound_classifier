{
 "cells": [
  {
   "cell_type": "code",
   "execution_count": 1,
   "metadata": {
    "collapsed": false
   },
   "outputs": [],
   "source": [
    "import numpy as np\n",
    "from collections import Counter\n",
    "\n",
    "def lea_datos(archivo, i_clase=11, encabezado=True, delim=\",\"):\n",
    "    '''Una funcion para leer archivos con datos de clasificación. \n",
    "    Argumentos:\n",
    "        archivo - direccion del archivo\n",
    "        i_clase - indice de columna que contiene las clases. \n",
    "                  default es -1 y significa la ultima fila.\n",
    "        header - si hay un encabezado\n",
    "        delim - que separa los datos\n",
    "    Regresa:\n",
    "        Un tuple de los datos, clases y cabezazo en caso que hay.'''\n",
    "    \n",
    "    todo = np.loadtxt(archivo, dtype=\"S\", delimiter=delim)    # para csv\n",
    "    if(encabezado):\n",
    "        encabezado = todo[0,:]\n",
    "        todo = todo[1:,:]\n",
    "    else: \n",
    "        encabezado = None\n",
    "    \n",
    "    clases = todo[:, i_clase]\n",
    "    datos = np.delete(todo, [0, i_clase], axis=1)\n",
    "    print (\"Clases\")\n",
    "    for k,v in Counter(clases).items(): print (k,\":\",v)\n",
    "    return (datos, clases, encabezado) "
   ]
  },
  {
   "cell_type": "code",
   "execution_count": 2,
   "metadata": {
    "collapsed": false
   },
   "outputs": [
    {
     "name": "stdout",
     "output_type": "stream",
     "text": [
      "Clases\n",
      "b'1' : 9\n",
      "b'0' : 14\n"
     ]
    },
    {
     "data": {
      "text/plain": [
       "(23,)"
      ]
     },
     "execution_count": 2,
     "metadata": {},
     "output_type": "execute_result"
    }
   ],
   "source": [
    "datos, clases, encabezado = lea_datos(\"datos_peña.csv\")  # _ significa que no nos interesa este valor \n",
    "clases.shape"
   ]
  },
  {
   "cell_type": "code",
   "execution_count": 3,
   "metadata": {
    "collapsed": false
   },
   "outputs": [],
   "source": [
    "X = datos.astype(\"float\")"
   ]
  },
  {
   "cell_type": "code",
   "execution_count": 4,
   "metadata": {
    "collapsed": false
   },
   "outputs": [
    {
     "data": {
      "text/plain": [
       "(23, 10)"
      ]
     },
     "execution_count": 4,
     "metadata": {},
     "output_type": "execute_result"
    }
   ],
   "source": [
    "X.shape"
   ]
  },
  {
   "cell_type": "code",
   "execution_count": 5,
   "metadata": {
    "collapsed": false
   },
   "outputs": [
    {
     "data": {
      "text/plain": [
       "array([[  4.50000000e+00,   3.10000000e+01,   4.00000000e+00,\n",
       "          5.00000000e+00,   1.12341354e+00,   9.40996006e-01,\n",
       "          1.32221862e+00,   1.19122451e+00,   1.88000000e+02,\n",
       "          5.00000000e-01],\n",
       "       [  4.50000000e+00,   3.10000000e+01,   0.00000000e+00,\n",
       "          6.00000000e+00,   1.64403306e+00,   1.09610206e+00,\n",
       "          9.28685725e-01,   7.73842846e-01,   2.57000000e+02,\n",
       "          4.00000000e-01],\n",
       "       [  0.00000000e+00,   0.00000000e+00,   1.00000000e+00,\n",
       "          4.00000000e+00,   8.98748648e-01,   1.13970449e+00,\n",
       "          1.14483608e+00,   1.23762166e+00,   2.17000000e+02,\n",
       "          1.10000000e+00],\n",
       "       [  2.95000000e+01,   7.90000000e+01,   0.00000000e+00,\n",
       "          4.00000000e+00,   2.43689770e+00,   3.30602862e+00,\n",
       "          8.07985056e-01,   4.15879549e-01,   2.77000000e+02,\n",
       "          1.00000000e-01],\n",
       "       [  0.00000000e+00,   2.00000000e+00,   1.00000000e+00,\n",
       "          0.00000000e+00,   2.25234594e+00,   1.66555157e+00,\n",
       "          1.10416611e+00,   1.15374008e+00,   3.00000000e+02,\n",
       "          2.00000000e-01],\n",
       "       [  0.00000000e+00,   2.00000000e+00,   4.00000000e+00,\n",
       "          4.00000000e+00,   1.07942270e+00,   1.55680455e+00,\n",
       "          6.24977156e-01,   1.06951414e+00,   1.32000000e+02,\n",
       "          8.00000000e-01],\n",
       "       [  3.75000000e+01,   1.06500000e+02,   4.00000000e+00,\n",
       "          4.00000000e+00,   7.17665481e+00,   4.46853516e+00,\n",
       "          3.45203527e-01,   2.89227646e-01,   2.51000000e+02,\n",
       "          3.00000000e-01],\n",
       "       [  5.20000000e+01,   8.95000000e+01,   0.00000000e+00,\n",
       "          4.00000000e+00,   5.50462700e+00,   1.18179496e+01,\n",
       "          3.02329297e-01,   1.69501946e-01,   2.37000000e+02,\n",
       "          5.00000000e-01],\n",
       "       [  0.00000000e+00,   0.00000000e+00,   2.00000000e+00,\n",
       "          4.00000000e+00,   1.39105030e+00,   7.96885603e+00,\n",
       "          1.13975030e+00,   1.11161455e+00,   1.18000000e+02,\n",
       "          2.00000000e-01],\n",
       "       [  0.00000000e+00,   0.00000000e+00,   0.00000000e+00,\n",
       "          0.00000000e+00,   9.80484442e-01,   1.11889012e+00,\n",
       "          1.06308201e+00,   9.31145151e-01,   2.11000000e+02,\n",
       "          4.20000000e+00],\n",
       "       [  1.00000000e+00,   3.25000000e+01,   2.00000000e+00,\n",
       "          0.00000000e+00,   1.29124237e+00,   2.68132821e+00,\n",
       "          1.09298464e+00,   1.14736879e+00,   2.08000000e+02,\n",
       "          2.00000000e-01],\n",
       "       [  1.00500000e+02,   1.40500000e+02,   1.00000000e+00,\n",
       "          2.00000000e+00,   6.11689477e+00,   7.34660524e+00,\n",
       "          3.10395236e-01,   1.40811489e-01,   2.13000000e+02,\n",
       "          4.00000000e-01],\n",
       "       [  4.25000000e+01,   9.50000000e+01,   2.00000000e+00,\n",
       "          2.00000000e+00,   1.29592365e+00,   6.35099232e+00,\n",
       "          6.38484523e-01,   4.36666725e-01,   1.98000000e+02,\n",
       "          9.00000000e-01],\n",
       "       [  1.05000000e+02,   1.80000000e+02,   2.00000000e+00,\n",
       "          2.00000000e+00,   1.32794273e+00,   1.62923356e+00,\n",
       "          6.29826530e-01,   9.35276083e-02,   1.67000000e+02,\n",
       "          4.90000000e+00],\n",
       "       [  5.00000000e-01,   5.00000000e-01,   2.00000000e+00,\n",
       "          4.00000000e+00,   1.17965254e+00,   2.68178764e+00,\n",
       "          9.33447835e-01,   9.29914208e-01,   2.23000000e+02,\n",
       "          2.00000000e-01],\n",
       "       [  1.78500000e+02,   2.14000000e+02,   2.00000000e+00,\n",
       "          2.00000000e+00,   1.95341188e+01,   8.82392050e+00,\n",
       "          1.34413789e-01,   5.43885436e-02,   1.76000000e+02,\n",
       "          6.40000000e+00],\n",
       "       [  1.08500000e+02,   1.58000000e+02,   1.00000000e+00,\n",
       "          4.00000000e+00,   2.74635163e+01,   2.34856971e+01,\n",
       "          2.66574738e-01,   2.09814992e-01,   1.07000000e+02,\n",
       "          7.50000000e+00],\n",
       "       [  9.30000000e+00,   7.27000000e+01,   2.00000000e+00,\n",
       "          2.00000000e+00,   1.59967785e+00,   2.28052665e+01,\n",
       "          7.31314388e-01,   5.32671084e-01,   2.16000000e+02,\n",
       "          2.00000000e-01],\n",
       "       [  3.75000000e+01,   8.60000000e+01,   0.00000000e+00,\n",
       "          1.00000000e+00,   1.53139271e+00,   1.30242088e+01,\n",
       "          2.61818324e-02,   3.63797592e-02,   1.76000000e+02,\n",
       "          2.20000000e+00],\n",
       "       [  1.00000000e+00,   5.00000000e-01,   2.00000000e+00,\n",
       "          0.00000000e+00,   9.17183479e-01,   2.73708466e+00,\n",
       "          1.06401204e+00,   1.19507163e+00,   1.60000000e+01,\n",
       "          4.48400000e+02],\n",
       "       [  5.95000000e+01,   1.09500000e+02,   4.00000000e+00,\n",
       "          2.00000000e+00,   1.56119529e+01,   9.01085597e+00,\n",
       "          2.05680177e-01,   2.51027990e-01,   2.48000000e+02,\n",
       "          3.00000000e-01],\n",
       "       [  6.00000000e+01,   1.62500000e+02,   2.00000000e+00,\n",
       "          2.00000000e+00,   6.86342971e+00,   2.08457229e+01,\n",
       "          9.68440839e-01,   2.61268729e-01,   2.19000000e+02,\n",
       "          8.00000000e-01],\n",
       "       [  1.65300000e+02,   2.34700000e+02,   2.00000000e+00,\n",
       "          4.00000000e+00,   1.08074515e+01,   1.48492681e+01,\n",
       "          5.26283807e-02,   3.66541582e-02,   1.50000000e+02,\n",
       "          5.87000000e+01]])"
      ]
     },
     "execution_count": 5,
     "metadata": {},
     "output_type": "execute_result"
    }
   ],
   "source": [
    "#Data Imputation\n",
    "from sklearn.preprocessing import Imputer\n",
    "imp = Imputer(missing_values = -1.0, strategy = \"most_frequent\")\n",
    "imp.fit_transform(X)\n"
   ]
  },
  {
   "cell_type": "code",
   "execution_count": 6,
   "metadata": {
    "collapsed": false
   },
   "outputs": [
    {
     "name": "stdout",
     "output_type": "stream",
     "text": [
      "Exactitud estimado: 0.391304347826\n"
     ]
    },
    {
     "name": "stderr",
     "output_type": "stream",
     "text": [
      "/usr/lib/python3.4/site-packages/sklearn/ensemble/forest.py:379: UserWarning: Some inputs do not have OOB scores. This probably means too few trees were used to compute any reliable oob estimates.\n",
      "  warn(\"Some inputs do not have OOB scores. \"\n",
      "/usr/lib/python3.4/site-packages/sklearn/ensemble/forest.py:384: RuntimeWarning: invalid value encountered in true_divide\n",
      "  predictions[k].sum(axis=1)[:, np.newaxis])\n"
     ]
    }
   ],
   "source": [
    "#Random Forest\n",
    "from sklearn.ensemble import RandomForestClassifier\n",
    "\n",
    "clf = RandomForestClassifier(oob_score=True)\n",
    "clf.fit(X, clases)\n",
    "print (\"Exactitud estimado:\", clf.oob_score_)"
   ]
  },
  {
   "cell_type": "code",
   "execution_count": 7,
   "metadata": {
    "collapsed": false
   },
   "outputs": [
    {
     "name": "stdout",
     "output_type": "stream",
     "text": [
      "Mejor numero de arboles= {'n_estimators': 25} ,exactitud = 0.478260869565\n"
     ]
    },
    {
     "name": "stderr",
     "output_type": "stream",
     "text": [
      "/usr/lib/python3.4/site-packages/sklearn/ensemble/forest.py:379: UserWarning: Some inputs do not have OOB scores. This probably means too few trees were used to compute any reliable oob estimates.\n",
      "  warn(\"Some inputs do not have OOB scores. \"\n",
      "/usr/lib/python3.4/site-packages/sklearn/ensemble/forest.py:384: RuntimeWarning: invalid value encountered in true_divide\n",
      "  predictions[k].sum(axis=1)[:, np.newaxis])\n",
      "/usr/lib/python3.4/site-packages/sklearn/ensemble/forest.py:379: UserWarning: Some inputs do not have OOB scores. This probably means too few trees were used to compute any reliable oob estimates.\n",
      "  warn(\"Some inputs do not have OOB scores. \"\n",
      "/usr/lib/python3.4/site-packages/sklearn/ensemble/forest.py:384: RuntimeWarning: invalid value encountered in true_divide\n",
      "  predictions[k].sum(axis=1)[:, np.newaxis])\n"
     ]
    }
   ],
   "source": [
    "from sklearn.cross_validation import StratifiedKFold\n",
    "from sklearn.grid_search import GridSearchCV\n",
    "import matplotlib.pyplot as plt\n",
    "\n",
    "cv = StratifiedKFold(y=clases, n_folds=2)\n",
    "arboles_vals = np.arange(5,200,5)\n",
    "busqueda = GridSearchCV(clf, param_grid=dict(n_estimators=arboles_vals), cv=cv)\n",
    "busqueda.fit(X, clases)\n",
    "\n",
    "print ('Mejor numero de arboles=',busqueda.best_params_,',exactitud =',busqueda.best_score_)\n",
    "\n",
    "scores = [x[1] for x in busqueda.grid_scores_]\n",
    "\n",
    "plt.plot(arboles_vals, scores)\n",
    "plt.xlabel('Número de árboles')\n",
    "plt.ylabel('exactitud cv')\n",
    "plt.savefig('Grid_RF_treenumber.svg')\n",
    "plt.show()\n"
   ]
  },
  {
   "cell_type": "code",
   "execution_count": 8,
   "metadata": {
    "collapsed": false
   },
   "outputs": [
    {
     "name": "stdout",
     "output_type": "stream",
     "text": [
      "Mejor profundidad= {'max_depth': 8} ,exactitud = 0.521739130435\n"
     ]
    },
    {
     "name": "stderr",
     "output_type": "stream",
     "text": [
      "/usr/lib/python3.4/site-packages/sklearn/ensemble/forest.py:379: UserWarning: Some inputs do not have OOB scores. This probably means too few trees were used to compute any reliable oob estimates.\n",
      "  warn(\"Some inputs do not have OOB scores. \"\n",
      "/usr/lib/python3.4/site-packages/sklearn/ensemble/forest.py:384: RuntimeWarning: invalid value encountered in true_divide\n",
      "  predictions[k].sum(axis=1)[:, np.newaxis])\n"
     ]
    }
   ],
   "source": [
    "prof_vals = np.arange(1,12)\n",
    "busqueda = GridSearchCV(clf, param_grid=dict(max_depth=prof_vals), cv=cv)\n",
    "busqueda.fit(datos, clases)\n",
    "\n",
    "print ('Mejor profundidad=',busqueda.best_params_,',exactitud =',busqueda.best_score_)\n",
    "\n",
    "scores = [x[1] for x in busqueda.grid_scores_]\n",
    "plt.plot(prof_vals, scores)\n",
    "plt.xlabel('profundidad maxima')\n",
    "plt.ylabel('exactitud cv')\n",
    "plt.savefig('Grid_RF_depth.svg')\n",
    "plt.show()\n"
   ]
  },
  {
   "cell_type": "code",
   "execution_count": 9,
   "metadata": {
    "collapsed": false
   },
   "outputs": [
    {
     "name": "stdout",
     "output_type": "stream",
     "text": [
      "cv exactitud = 0.609848484848 ± 0.0265151515152\n"
     ]
    }
   ],
   "source": [
    "#SVM\n",
    "from sklearn.svm import SVC\n",
    "from sklearn.cross_validation import cross_val_score, StratifiedKFold\n",
    "\n",
    "clf = SVC(kernel='rbf')\n",
    "exas = cross_val_score(clf, X, clases, cv=2)    # escoge un numero adecuado de folds \n",
    "print ('cv exactitud =', exas.mean(), '±', exas.std())"
   ]
  },
  {
   "cell_type": "code",
   "execution_count": 10,
   "metadata": {
    "collapsed": false
   },
   "outputs": [
    {
     "name": "stdout",
     "output_type": "stream",
     "text": [
      "Mejor C, gamma = {'gamma': 0.001, 'C': 10.0} ,exactitud = 0.652173913043\n"
     ]
    }
   ],
   "source": [
    "\n",
    "from sklearn.grid_search import GridSearchCV\n",
    "import matplotlib.pyplot as plt\n",
    "\n",
    "cv = StratifiedKFold(y=clases, n_folds=3)     # usamos las primeras 100 muestras\n",
    "C_rango = 10.0 ** np.arange(-5,5)\n",
    "gamma_rango = 10.0 ** np.arange(-5,5)\n",
    "busqueda = GridSearchCV(clf, param_grid=dict(C=C_rango, gamma=gamma_rango), cv=cv)\n",
    "busqueda.fit(X, clases)        # usamos las primeras 100 muestras\n",
    "\n",
    "print ('Mejor C, gamma =',busqueda.best_params_,',exactitud =',busqueda.best_score_)\n",
    "\n",
    "scores = np.array( [x[1] for x in busqueda.grid_scores_] ) # Sacamos nada mas el segundo elemento de los scores\n",
    "n_C, n_g = len(C_rango), len(gamma_rango)                  # sacamos el numero de parametros probados\n",
    "scores = scores.reshape(n_C, n_g)                          # convertimos los scores en la cuadricula\n",
    "\n",
    "# Ahora vamos a dibujar todo\n",
    "plt.figure(figsize=(10,8))                     # hacemos el imagen un poco mas grande\n",
    "plt.imshow(scores, interpolation='nearest')    # dibuja los scores representado por colores\n",
    "plt.xlabel('gamma')                            # pon el titulo del eje x\n",
    "plt.ylabel('C')                                # pon el titulo del eje y\n",
    "plt.colorbar()                                 # pon un escala de colores para los scores\n",
    "plt.xticks(np.arange(len(gamma_rango)), gamma_rango, rotation=45)    # pon los valores para gamma\n",
    "plt.yticks(np.arange(len(C_rango)), C_rango)   # pon los valores para C\n",
    "plt.savefig('heatmap_SVM.svg')\n",
    "plt.show()\n"
   ]
  },
  {
   "cell_type": "code",
   "execution_count": null,
   "metadata": {
    "collapsed": true
   },
   "outputs": [],
   "source": []
  }
 ],
 "metadata": {
  "kernelspec": {
   "display_name": "Python 3",
   "language": "python",
   "name": "python3"
  },
  "language_info": {
   "codemirror_mode": {
    "name": "ipython",
    "version": 3
   },
   "file_extension": ".py",
   "mimetype": "text/x-python",
   "name": "python",
   "nbconvert_exporter": "python",
   "pygments_lexer": "ipython3",
   "version": "3.4.3"
  }
 },
 "nbformat": 4,
 "nbformat_minor": 0
}
