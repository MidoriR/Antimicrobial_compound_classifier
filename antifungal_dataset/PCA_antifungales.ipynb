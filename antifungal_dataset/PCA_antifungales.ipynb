{
 "cells": [
  {
   "cell_type": "code",
   "execution_count": 1,
   "metadata": {
    "collapsed": false
   },
   "outputs": [],
   "source": [
    "import numpy as np\n",
    "from sklearn import svm\n",
    "from sklearn.cross_validation import cross_val_score, StratifiedKFold\n",
    "\n",
    "#loading and selecting data\n",
    "\n",
    "all_data = np.loadtxt ('antifungales.csv', delimiter = ',', dtype = 'S') #Training data set\n",
    "header = all_data [0, :]\n",
    "datos = all_data [1:, 1:]\n",
    "\n",
    "todos_peña = np.loadtxt('colorantespena.csv', delimiter = ',', dtype = 'S')\n",
    "peña = todos_peña[1:, 1:]\n",
    "\n",
    "#cleaning data \n",
    "\n",
    "\n",
    "def clean_data(dataset):\n",
    "    '''returns a float array of the values obtainded by padel descriptor'''\n",
    "    array = dataset.shape\n",
    "    clean_dataset = np.empty(array)\n",
    "    \n",
    "    for columna in range(array[1]):\n",
    "        for element in range(array[0]):\n",
    "            if dataset[element, columna] == b'' or dataset[element, columna] == b'Infinity':\n",
    "                clean_dataset[element, columna] = np.NAN\n",
    "            else:\n",
    "                clean_dataset[element, columna] = float(dataset[element, columna])\n",
    "\n",
    "    return clean_dataset\n",
    "\n",
    "X_train = clean_data(datos)\n",
    "X_test = clean_data(peña)\n",
    "\n",
    "#array of clases\n",
    "\n",
    "clases = np.ones((70,), dtype = np.int)\n",
    "test_clases = np.loadtxt('clases_colorantes.csv', delimiter = ',', dtype = 'S')\n",
    "test_clases = test_clases.astype(int)\n",
    "all_clases = np.append(clases, test_clases)"
   ]
  },
  {
   "cell_type": "code",
   "execution_count": 2,
   "metadata": {
    "collapsed": false
   },
   "outputs": [],
   "source": [
    "all_datos = np.append(X_train, X_test, axis = 0)"
   ]
  },
  {
   "cell_type": "code",
   "execution_count": 3,
   "metadata": {
    "collapsed": false
   },
   "outputs": [
    {
     "data": {
      "text/plain": [
       "(99, 1444)"
      ]
     },
     "execution_count": 3,
     "metadata": {},
     "output_type": "execute_result"
    }
   ],
   "source": [
    "all_datos.shape"
   ]
  },
  {
   "cell_type": "code",
   "execution_count": 4,
   "metadata": {
    "collapsed": false
   },
   "outputs": [],
   "source": [
    "from sklearn.preprocessing import Imputer\n",
    "imp = Imputer (missing_values='NaN', strategy='mean', axis=0)\n",
    "all_datos2 = imp.fit_transform (all_datos)"
   ]
  },
  {
   "cell_type": "code",
   "execution_count": 5,
   "metadata": {
    "collapsed": false
   },
   "outputs": [
    {
     "name": "stdout",
     "output_type": "stream",
     "text": [
      "explained variance of first two components: 99.974906%\n"
     ]
    }
   ],
   "source": [
    "import matplotlib.pylab as plt\n",
    "from sklearn.decomposition import PCA\n",
    "\n",
    "pca = PCA(n_components = 8)\n",
    "data_pca = pca.fit(all_datos2).transform(all_datos2)\n",
    "print('explained variance of first two components: {:%}'.format(pca.explained_variance_ratio_[0:2].sum()))\n",
    "\n"
   ]
  },
  {
   "cell_type": "code",
   "execution_count": 12,
   "metadata": {
    "collapsed": false
   },
   "outputs": [],
   "source": [
    "# Plot dimension reduced data in 2D\n",
    "colores = dict( zip(np.unique(all_clases), ('blue', 'cyan', 'yellow')) )\n",
    "etiquetas = ['No Antimicrobiano', 'Antimicrobiano', 'Desconocido']\n",
    "marcadores = dict( zip(np.unique(all_clases), ('o', 's', 'v')) )\n",
    "plt.figure()\n",
    "for element in np.unique(all_clases):\n",
    "    plt.scatter(data_pca[all_clases == element, 0], data_pca[all_clases== element, 2],c=colores[element],\n",
    "                label=etiquetas[element], marker=marcadores[element])\n",
    "\n",
    "plt.legend()\n",
    "plt.xlabel('PC1')\n",
    "plt.ylabel('PC3')\n",
    "plt.savefig('PCA23.svg')\n",
    "plt.show()\n"
   ]
  },
  {
   "cell_type": "code",
   "execution_count": 7,
   "metadata": {
    "collapsed": false
   },
   "outputs": [
    {
     "data": {
      "text/plain": [
       "{0: 'o', 1: 's', 2: 'v'}"
      ]
     },
     "execution_count": 7,
     "metadata": {},
     "output_type": "execute_result"
    }
   ],
   "source": [
    "marcadores"
   ]
  },
  {
   "cell_type": "code",
   "execution_count": 8,
   "metadata": {
    "collapsed": false
   },
   "outputs": [
    {
     "data": {
      "text/plain": [
       "{0: 'blue', 1: 'cyan', 2: 'yellow'}"
      ]
     },
     "execution_count": 8,
     "metadata": {},
     "output_type": "execute_result"
    }
   ],
   "source": [
    "colores"
   ]
  },
  {
   "cell_type": "code",
   "execution_count": 9,
   "metadata": {
    "collapsed": false
   },
   "outputs": [
    {
     "data": {
      "text/plain": [
       "'cyan'"
      ]
     },
     "execution_count": 9,
     "metadata": {},
     "output_type": "execute_result"
    }
   ],
   "source": [
    "colores[1]"
   ]
  },
  {
   "cell_type": "code",
   "execution_count": 10,
   "metadata": {
    "collapsed": false
   },
   "outputs": [
    {
     "data": {
      "text/plain": [
       "'s'"
      ]
     },
     "execution_count": 10,
     "metadata": {},
     "output_type": "execute_result"
    }
   ],
   "source": [
    "marcadores[1]"
   ]
  },
  {
   "cell_type": "code",
   "execution_count": null,
   "metadata": {
    "collapsed": true
   },
   "outputs": [],
   "source": []
  }
 ],
 "metadata": {
  "kernelspec": {
   "display_name": "Python 3",
   "language": "python",
   "name": "python3"
  },
  "language_info": {
   "codemirror_mode": {
    "name": "ipython",
    "version": 3
   },
   "file_extension": ".py",
   "mimetype": "text/x-python",
   "name": "python",
   "nbconvert_exporter": "python",
   "pygments_lexer": "ipython3",
   "version": "3.4.3"
  }
 },
 "nbformat": 4,
 "nbformat_minor": 0
}
