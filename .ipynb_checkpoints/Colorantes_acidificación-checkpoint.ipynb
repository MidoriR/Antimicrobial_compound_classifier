{
 "cells": [
  {
   "cell_type": "code",
   "execution_count": 1,
   "metadata": {
    "collapsed": true
   },
   "outputs": [],
   "source": [
    "import numpy as np\n",
    "from collections import Counter\n",
    "\n",
    "def lea_datos(archivo, i_clase=4, encabezado=True, delim=\",\"):\n",
    "    '''Una funcion para leer archivos con datos de clasificación. \n",
    "    Argumentos:\n",
    "        archivo - direccion del archivo\n",
    "        i_clase - indice de columna que contiene las clases. \n",
    "                  default es -1 y significa la ultima fila.\n",
    "        header - si hay un encabezado\n",
    "        delim - que separa los datos\n",
    "    Regresa:\n",
    "        Un tuple de los datos, clases y cabezazo en caso que hay.'''\n",
    "    \n",
    "    todo = np.loadtxt(archivo, dtype=\"S\", delimiter=delim)    # para csv\n",
    "    if(encabezado):\n",
    "        encabezado = todo[0,:]\n",
    "        todo = todo[1:-2,:]\n",
    "    else: \n",
    "        encabezado = None\n",
    "    \n",
    "    clases = todo[:, i_clase]\n",
    "    datos = np.delete(todo, [0, i_clase], axis=1)\n",
    "    print (\"Clases\")\n",
    "    for k,v in Counter(clases).items(): print (k,\":\",v)\n",
    "    return (datos, clases, encabezado) "
   ]
  },
  {
   "cell_type": "code",
   "execution_count": 2,
   "metadata": {
    "collapsed": false
   },
   "outputs": [
    {
     "name": "stdout",
     "output_type": "stream",
     "text": [
      "Clases\n",
      "b'0' : 4\n",
      "b'4' : 8\n",
      "b'5' : 1\n",
      "b'2' : 6\n",
      "b'6' : 1\n",
      "b'1' : 1\n"
     ]
    },
    {
     "data": {
      "text/plain": [
       "(21,)"
      ]
     },
     "execution_count": 2,
     "metadata": {},
     "output_type": "execute_result"
    }
   ],
   "source": [
    "datos, clases, encabezado = lea_datos(\"datos_peña.csv\")  # _ significa que no nos interesa este valor \n",
    "clases.shape"
   ]
  },
  {
   "cell_type": "code",
   "execution_count": 3,
   "metadata": {
    "collapsed": false
   },
   "outputs": [
    {
     "data": {
      "text/plain": [
       "array([[b'4.5', b'31.0', b'4', b'1.1234135377', b'0.940996006',\n",
       "        b'1.3222186193', b'1.191224514', b'188', b'0.5', b'0'],\n",
       "       [b'4.5', b'31.0', b'0', b'1.6440330604', b'1.096102062',\n",
       "        b'0.928685725', b'0.773842846', b'257', b'0.4', b'0'],\n",
       "       [b'0.0', b'0.0', b'1', b'0.8987486483', b'1.1397044939',\n",
       "        b'1.1448360825', b'1.2376216637', b'217', b'1.1', b'1'],\n",
       "       [b'29.5', b'79.0', b'0', b'2.436897696', b'3.3060286184',\n",
       "        b'0.8079850558', b'0.4158795494', b'277', b'0.1', b'0'],\n",
       "       [b'0.0', b'2.0', b'1', b'2.2523459396', b'1.6655515681',\n",
       "        b'1.1041661131', b'1.1537400817', b'300', b'0.2', b'1'],\n",
       "       [b'0.0', b'2.0', b'4', b'1.0794226981', b'1.5568045542',\n",
       "        b'0.624977156', b'1.0695141442', b'132', b'0.8', b'0'],\n",
       "       [b'37.5', b'106.5', b'4', b'7.1766548138', b'4.468535159',\n",
       "        b'0.3452035267', b'0.2892276465', b'251', b'0.3', b'1'],\n",
       "       [b'52.0', b'89.5', b'0', b'5.5046270027', b'11.8179496486',\n",
       "        b'0.3023292966', b'0.1695019463', b'237', b'0.5', b'1'],\n",
       "       [b'0.0', b'0.0', b'2', b'1.3910502978', b'7.9688560267',\n",
       "        b'1.1397502956', b'1.1116145546', b'118', b'0.2', b'0'],\n",
       "       [b'0.0', b'0.0', b'0', b'0.9804844416', b'1.1188901165',\n",
       "        b'1.0630820117', b'0.9311451506', b'211', b'4.2', b'0'],\n",
       "       [b'1.0', b'32.5', b'2', b'1.2912423663', b'2.6813282119',\n",
       "        b'1.0929846388', b'1.147368791', b'208', b'0.2', b'0'],\n",
       "       [b'100.5', b'140.5', b'1', b'6.1168947711', b'7.3466052432',\n",
       "        b'0.3103952361', b'0.1408114895', b'213', b'0.4', b'0'],\n",
       "       [b'42.5', b'95.0', b'2', b'1.2959236492', b'6.3509923158',\n",
       "        b'0.6384845231', b'0.4366667252', b'198', b'0.9', b'1'],\n",
       "       [b'105.0', b'180.0', b'2', b'1.3279427308', b'1.6292335556',\n",
       "        b'0.62982653', b'0.0935276083', b'167', b'4.9', b'1'],\n",
       "       [b'0.5', b'0.5', b'2', b'1.1796525448', b'2.6817876412',\n",
       "        b'0.9334478352', b'0.9299142085', b'223', b'0.2', b'1'],\n",
       "       [b'178.5', b'214.0', b'2', b'19.5341188484', b'8.8239204977',\n",
       "        b'0.1344137894', b'0.0543885436', b'176', b'6.4', b'0'],\n",
       "       [b'108.5', b'158.0', b'1', b'27.4635163456', b'23.4856970693',\n",
       "        b'0.2665747382', b'0.2098149919', b'107', b'7.5', b'0'],\n",
       "       [b'9.3', b'72.7', b'2', b'1.5996778511', b'22.8052665067',\n",
       "        b'0.7313143878', b'0.5326710836', b'216', b'0.2', b'0'],\n",
       "       [b'37.5', b'86.0', b'0', b'1.5313927078', b'13.0242087921',\n",
       "        b'0.0261818324', b'0.0363797592', b'176', b'2.2', b'1'],\n",
       "       [b'1.0', b'0.5', b'2', b'0.9171834792', b'2.7370846577',\n",
       "        b'1.0640120406', b'1.1950716326', b'16', b'448.4', b'0'],\n",
       "       [b'59.5', b'109.5', b'4', b'15.6119529009', b'9.0108559672',\n",
       "        b'0.2056801766', b'0.2510279902', b'248', b'0.3', b'0']], \n",
       "      dtype='|S16')"
      ]
     },
     "execution_count": 3,
     "metadata": {},
     "output_type": "execute_result"
    }
   ],
   "source": [
    "datos"
   ]
  },
  {
   "cell_type": "code",
   "execution_count": 4,
   "metadata": {
    "collapsed": true
   },
   "outputs": [],
   "source": [
    "X = datos.astype(\"float\")"
   ]
  },
  {
   "cell_type": "code",
   "execution_count": 5,
   "metadata": {
    "collapsed": false
   },
   "outputs": [
    {
     "name": "stdout",
     "output_type": "stream",
     "text": [
      "Exactitud estimado: 0.333333333333\n"
     ]
    }
   ],
   "source": [
    "#Random Forest\n",
    "from sklearn.ensemble import RandomForestClassifier\n",
    "\n",
    "clf = RandomForestClassifier(oob_score=True)\n",
    "clf.fit(X, clases)\n",
    "print (\"Exactitud estimado:\", clf.oob_score_)"
   ]
  },
  {
   "cell_type": "code",
   "execution_count": 6,
   "metadata": {
    "collapsed": false
   },
   "outputs": [
    {
     "name": "stderr",
     "output_type": "stream",
     "text": [
      "/usr/lib/python3.4/site-packages/sklearn/cross_validation.py:417: Warning: The least populated class in y has only 1 members, which is too few. The minimum number of labels for any class cannot be less than n_folds=2.\n",
      "  % (min_labels, self.n_folds)), Warning)\n",
      "/usr/lib/python3.4/site-packages/sklearn/ensemble/forest.py:379: UserWarning: Some inputs do not have OOB scores. This probably means too few trees were used to compute any reliable oob estimates.\n",
      "  warn(\"Some inputs do not have OOB scores. \"\n"
     ]
    },
    {
     "name": "stdout",
     "output_type": "stream",
     "text": [
      "Mejor numero de arboles= {'n_estimators': 10} ,exactitud = 0.47619047619\n"
     ]
    },
    {
     "name": "stderr",
     "output_type": "stream",
     "text": [
      "/usr/lib/python3.4/site-packages/sklearn/ensemble/forest.py:384: RuntimeWarning: invalid value encountered in true_divide\n",
      "  predictions[k].sum(axis=1)[:, np.newaxis])\n",
      "/usr/lib/python3.4/site-packages/sklearn/ensemble/forest.py:379: UserWarning: Some inputs do not have OOB scores. This probably means too few trees were used to compute any reliable oob estimates.\n",
      "  warn(\"Some inputs do not have OOB scores. \"\n",
      "/usr/lib/python3.4/site-packages/sklearn/ensemble/forest.py:384: RuntimeWarning: invalid value encountered in true_divide\n",
      "  predictions[k].sum(axis=1)[:, np.newaxis])\n"
     ]
    },
    {
     "data": {
      "image/png": "[encoded data removed]",
      "text/plain": [
       "<matplotlib.figure.Figure at 0x7f749c689f98>"
      ]
     },
     "metadata": {},
     "output_type": "display_data"
    }
   ],
   "source": [
    "%matplotlib inline\n",
    "from sklearn.cross_validation import StratifiedKFold\n",
    "from sklearn.grid_search import GridSearchCV\n",
    "import matplotlib.pyplot as plt\n",
    "\n",
    "cv = StratifiedKFold(y=clases, n_folds=2)\n",
    "arboles_vals = np.arange(5,200,5)\n",
    "busqueda = GridSearchCV(clf, param_grid=dict(n_estimators=arboles_vals), cv=cv)\n",
    "busqueda.fit(X, clases)\n",
    "\n",
    "print ('Mejor numero de arboles=',busqueda.best_params_,',exactitud =',busqueda.best_score_)\n",
    "\n",
    "scores = [x[1] for x in busqueda.grid_scores_]\n",
    "\n",
    "plt.plot(arboles_vals, scores)\n",
    "plt.xlabel('C')\n",
    "plt.ylabel('exactitud cv')\n",
    "plt.show()"
   ]
  },
  {
   "cell_type": "code",
   "execution_count": 7,
   "metadata": {
    "collapsed": false
   },
   "outputs": [
    {
     "name": "stderr",
     "output_type": "stream",
     "text": [
      "/usr/lib/python3.4/site-packages/sklearn/ensemble/forest.py:379: UserWarning: Some inputs do not have OOB scores. This probably means too few trees were used to compute any reliable oob estimates.\n",
      "  warn(\"Some inputs do not have OOB scores. \"\n",
      "/usr/lib/python3.4/site-packages/sklearn/ensemble/forest.py:384: RuntimeWarning: invalid value encountered in true_divide\n",
      "  predictions[k].sum(axis=1)[:, np.newaxis])\n",
      "/usr/lib/python3.4/site-packages/sklearn/ensemble/forest.py:379: UserWarning: Some inputs do not have OOB scores. This probably means too few trees were used to compute any reliable oob estimates.\n",
      "  warn(\"Some inputs do not have OOB scores. \"\n",
      "/usr/lib/python3.4/site-packages/sklearn/ensemble/forest.py:384: RuntimeWarning: invalid value encountered in true_divide\n",
      "  predictions[k].sum(axis=1)[:, np.newaxis])\n",
      "/usr/lib/python3.4/site-packages/sklearn/ensemble/forest.py:379: UserWarning: Some inputs do not have OOB scores. This probably means too few trees were used to compute any reliable oob estimates.\n",
      "  warn(\"Some inputs do not have OOB scores. \"\n"
     ]
    },
    {
     "name": "stdout",
     "output_type": "stream",
     "text": [
      "Mejor profundidad= {'max_depth': 3} ,exactitud = 0.52380952381\n"
     ]
    },
    {
     "name": "stderr",
     "output_type": "stream",
     "text": [
      "/usr/lib/python3.4/site-packages/sklearn/ensemble/forest.py:384: RuntimeWarning: invalid value encountered in true_divide\n",
      "  predictions[k].sum(axis=1)[:, np.newaxis])\n"
     ]
    },
    {
     "data": {
      "image/png": "[encoded data removed]",
      "text/plain": [
       "<matplotlib.figure.Figure at 0x7f749f029898>"
      ]
     },
     "metadata": {},
     "output_type": "display_data"
    }
   ],
   "source": [
    "prof_vals = np.arange(1,12)\n",
    "busqueda = GridSearchCV(clf, param_grid=dict(max_depth=prof_vals), cv=cv)\n",
    "busqueda.fit(datos, clases)\n",
    "\n",
    "print ('Mejor profundidad=',busqueda.best_params_,',exactitud =',busqueda.best_score_)\n",
    "\n",
    "scores = [x[1] for x in busqueda.grid_scores_]\n",
    "plt.plot(prof_vals, scores)\n",
    "plt.xlabel('profundidad maxima')\n",
    "plt.ylabel('exactitud cv')\n",
    "plt.show()"
   ]
  },
  {
   "cell_type": "code",
   "execution_count": 8,
   "metadata": {
    "collapsed": false
   },
   "outputs": [
    {
     "name": "stdout",
     "output_type": "stream",
     "text": [
      "cv exactitud = 0.388888888889 ± 0.0555555555556\n"
     ]
    },
    {
     "name": "stderr",
     "output_type": "stream",
     "text": [
      "/usr/lib/python3.4/site-packages/sklearn/cross_validation.py:417: Warning: The least populated class in y has only 1 members, which is too few. The minimum number of labels for any class cannot be less than n_folds=2.\n",
      "  % (min_labels, self.n_folds)), Warning)\n"
     ]
    }
   ],
   "source": [
    "#SVM\n",
    "from sklearn.svm import SVC\n",
    "from sklearn.cross_validation import cross_val_score, StratifiedKFold\n",
    "\n",
    "clf = SVC(kernel='rbf')\n",
    "exas = cross_val_score(clf, X, clases, cv=2)    # escoge un numero adecuado de folds \n",
    "print ('cv exactitud =', exas.mean(), '±', exas.std())"
   ]
  },
  {
   "cell_type": "code",
   "execution_count": 9,
   "metadata": {
    "collapsed": false
   },
   "outputs": [
    {
     "name": "stdout",
     "output_type": "stream",
     "text": [
      "Mejor C, gamma = {'gamma': 1.0000000000000001e-05, 'C': 1.0000000000000001e-05} ,exactitud = 0.380952380952\n"
     ]
    },
    {
     "name": "stderr",
     "output_type": "stream",
     "text": [
      "/usr/lib/python3.4/site-packages/sklearn/cross_validation.py:417: Warning: The least populated class in y has only 1 members, which is too few. The minimum number of labels for any class cannot be less than n_folds=3.\n",
      "  % (min_labels, self.n_folds)), Warning)\n"
     ]
    },
    {
     "data": {
      "image/png": "[encoded data removed]",
      "text/plain": [
       "<matplotlib.figure.Figure at 0x7f749c2f7dd8>"
      ]
     },
     "metadata": {},
     "output_type": "display_data"
    }
   ],
   "source": [
    "%matplotlib inline\n",
    "from sklearn.grid_search import GridSearchCV\n",
    "import matplotlib.pyplot as plt\n",
    "\n",
    "cv = StratifiedKFold(y=clases, n_folds=3)     # usamos las primeras 100 muestras\n",
    "C_rango = 10.0 ** np.arange(-5,5)\n",
    "gamma_rango = 10.0 ** np.arange(-5,5)\n",
    "busqueda = GridSearchCV(clf, param_grid=dict(C=C_rango, gamma=gamma_rango), cv=cv)\n",
    "busqueda.fit(X, clases)        # usamos las primeras 100 muestras\n",
    "\n",
    "print ('Mejor C, gamma =',busqueda.best_params_,',exactitud =',busqueda.best_score_)\n",
    "\n",
    "scores = np.array( [x[1] for x in busqueda.grid_scores_] ) # Sacamos nada mas el segundo elemento de los scores\n",
    "n_C, n_g = len(C_rango), len(gamma_rango)                  # sacamos el numero de parametros probados\n",
    "scores = scores.reshape(n_C, n_g)                          # convertimos los scores en la cuadricula\n",
    "\n",
    "# Ahora vamos a dibujar todo\n",
    "plt.figure(figsize=(10,8))                     # hacemos el imagen un poco mas grande\n",
    "plt.imshow(scores, interpolation='nearest')    # dibuja los scores representado por colores\n",
    "plt.xlabel('gamma')                            # pon el titulo del eje x\n",
    "plt.ylabel('C')                                # pon el titulo del eje y\n",
    "plt.colorbar()                                 # pon un escala de colores para los scores\n",
    "plt.xticks(np.arange(len(gamma_rango)), gamma_rango, rotation=45)    # pon los valores para gamma\n",
    "plt.yticks(np.arange(len(C_rango)), C_rango)   # pon los valores para C\n",
    "plt.show()"
   ]
  },
  {
   "cell_type": "code",
   "execution_count": null,
   "metadata": {
    "collapsed": true
   },
   "outputs": [],
   "source": []
  }
 ],
 "metadata": {
  "kernelspec": {
   "display_name": "Python 3",
   "language": "python",
   "name": "python3"
  },
  "language_info": {
   "codemirror_mode": {
    "name": "ipython",
    "version": 3
   },
   "file_extension": ".py",
   "mimetype": "text/x-python",
   "name": "python",
   "nbconvert_exporter": "python",
   "pygments_lexer": "ipython3",
   "version": "3.4.3"
  }
 },
 "nbformat": 4,
 "nbformat_minor": 0
}
